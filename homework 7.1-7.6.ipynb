{
 "cells": [
  {
   "cell_type": "code",
   "execution_count": 1,
   "metadata": {
    "collapsed": true
   },
   "outputs": [],
   "source": [
    "import numpy as np\n",
    "import pandas as pd"
   ]
  },
  {
   "cell_type": "code",
   "execution_count": 6,
   "metadata": {
    "collapsed": true
   },
   "outputs": [],
   "source": [
    "def transform(points_x, k=1):\n",
    "    n = points_x.shape[0]\n",
    "    m = 8\n",
    "    points_z = np.zeros([n, m])\n",
    "    points_z[:,0] = 1 # add intercept\n",
    "    points_z[:,1:3] = points_x[:,0:2] # copy over the original features\n",
    "    points_z[:,3:5] = np.power(points_x[:, 0:2], 2) # powers\n",
    "    points_z[:,5] = points_x[:, 0] * points_x[:, 1] # product\n",
    "    points_z[:,6] = np.abs(points_x[:, 0] - points_x[:, 1]) # abs diff\n",
    "    points_z[:,7] = np.abs(points_x[:, 0] + points_x[:, 1]) # abs sum\n",
    "    return points_z\n",
    "    \n",
    "def solve_linear_regression(pi, labels):\n",
    "    return np.dot(np.dot(np.linalg.pinv(np.dot(pi.T, pi)), pi.T), labels)\n",
    "\n",
    "def get_linear_regression_error(pi, labels, gx_vector):\n",
    "    predictions = np.sign(np.dot(pi, gx_vector))\n",
    "    return sum ((labels * predictions) < 0) / len(labels)"
   ]
  },
  {
   "cell_type": "markdown",
   "metadata": {},
   "source": [
    "### Data preparation"
   ]
  },
  {
   "cell_type": "code",
   "execution_count": 7,
   "metadata": {
    "collapsed": false
   },
   "outputs": [],
   "source": [
    "train = pd.read_csv(\"./data/in.dta\", delim_whitespace=True, header=None).as_matrix()\n",
    "test = pd.read_csv(\"./data/out.dta\", delim_whitespace=True, header=None).as_matrix()"
   ]
  },
  {
   "cell_type": "code",
   "execution_count": 8,
   "metadata": {
    "collapsed": true
   },
   "outputs": [],
   "source": [
    "train_x = train[:,:2]\n",
    "train_y = train[:,2]\n",
    "\n",
    "test_x = test[:,:2]\n",
    "test_y = test[:,2]"
   ]
  },
  {
   "cell_type": "code",
   "execution_count": 16,
   "metadata": {
    "collapsed": false
   },
   "outputs": [],
   "source": [
    "train_z = transform(train_x)\n",
    "test_z = transform(test_x)"
   ]
  },
  {
   "cell_type": "markdown",
   "metadata": {},
   "source": [
    "# Linear regression with cross validation"
   ]
  },
  {
   "cell_type": "code",
   "execution_count": 67,
   "metadata": {
    "collapsed": true
   },
   "outputs": [],
   "source": [
    "def argmin(z):\n",
    "    if not z: return None\n",
    "    min_val = min(z.values())\n",
    "    return [k for k in z if z[k] == min_val][0]"
   ]
  },
  {
   "cell_type": "code",
   "execution_count": 87,
   "metadata": {
    "collapsed": false
   },
   "outputs": [],
   "source": [
    "def cross_validate_linear_regression(t_size):\n",
    "    error_val = dict()\n",
    "    error_out = dict()\n",
    "    for k in range(3, 8):\n",
    "        gx_vector = solve_linear_regression(train_z[:t_size, :k+1], train_y[:t_size]) # linear regression without decay\n",
    "        error_val[k] = get_linear_regression_error(train_z[t_size:, :k+1], train_y[t_size:], gx_vector) # error in sample\n",
    "        error_out[k] = get_linear_regression_error(test_z[:,:k+1], test_y, gx_vector) # error out of sample\n",
    "        print(\"k = %d\\t error_val = %.3f\\terror_out = %.3f\" % (k, error_val[k], error_out[k]))\n",
    "        \n",
    "    best_k = argmin(error_val)\n",
    "    print(\"\\nbest validation k = %d\\terror_val = %.3f\\t error_out = %.3f\" % (best_k, error_val[best_k], error_out[k]))\n",
    "    \n",
    "    best_k = argmin(error_out)\n",
    "    print(\"\\nbest out-of-sample k = %d\\terror_val = %.3f\\t error_out = %.3f\" % (best_k, error_val[best_k], error_out[k]))"
   ]
  },
  {
   "cell_type": "markdown",
   "metadata": {},
   "source": [
    "### Train = 25 point\n",
    "### Validation = 10 points"
   ]
  },
  {
   "cell_type": "code",
   "execution_count": 88,
   "metadata": {
    "collapsed": false
   },
   "outputs": [
    {
     "name": "stdout",
     "output_type": "stream",
     "text": [
      "k = 3\t error_val = 0.300\terror_out = 0.420\n",
      "k = 4\t error_val = 0.500\terror_out = 0.416\n",
      "k = 5\t error_val = 0.200\terror_out = 0.188\n",
      "k = 6\t error_val = 0.000\terror_out = 0.084\n",
      "k = 7\t error_val = 0.100\terror_out = 0.072\n",
      "\n",
      "best validation k = 6\terror_val = 0.000\t error_out = 0.072\n",
      "\n",
      "best out-of-sample k = 7\terror_val = 0.100\t error_out = 0.072\n"
     ]
    }
   ],
   "source": [
    "cross_validate_linear_regression(t_size = 25)"
   ]
  },
  {
   "cell_type": "markdown",
   "metadata": {},
   "source": [
    "### 10 training points\n",
    "### 25 validation points"
   ]
  },
  {
   "cell_type": "code",
   "execution_count": 90,
   "metadata": {
    "collapsed": false
   },
   "outputs": [
    {
     "name": "stdout",
     "output_type": "stream",
     "text": [
      "k = 3\t error_val = 0.480\terror_out = 0.472\n",
      "k = 4\t error_val = 0.400\terror_out = 0.412\n",
      "k = 5\t error_val = 0.360\terror_out = 0.348\n",
      "k = 6\t error_val = 0.000\terror_out = 0.104\n",
      "k = 7\t error_val = 0.160\terror_out = 0.172\n",
      "\n",
      "best validation k = 6\terror_val = 0.000\t error_out = 0.172\n",
      "\n",
      "best out-of-sample k = 6\terror_val = 0.000\t error_out = 0.172\n"
     ]
    }
   ],
   "source": [
    "cross_validate_linear_regression(t_size = 10)"
   ]
  },
  {
   "cell_type": "markdown",
   "metadata": {},
   "source": [
    "# Validation bias"
   ]
  },
  {
   "cell_type": "code",
   "execution_count": 103,
   "metadata": {
    "collapsed": false
   },
   "outputs": [
    {
     "name": "stdout",
     "output_type": "stream",
     "text": [
      "[ 0.50102712]\n",
      "[ 0.50300042]\n",
      "[ 0.33538324]\n"
     ]
    }
   ],
   "source": [
    "# from math import \n",
    "tot_e1 = 0\n",
    "tot_e2 = 0\n",
    "tot_e = 0\n",
    "iterations = 10000\n",
    "for i in range(iterations):\n",
    "    e1 = np.random.rand(1)\n",
    "    e2 = np.random.rand(1)\n",
    "    tot_e1 += e1\n",
    "    tot_e2 += e2\n",
    "    tot_e += min(e1, e2)\n",
    "    \n",
    "print(tot_e1 / iterations)\n",
    "print(tot_e2 / iterations)\n",
    "print(tot_e / iterations)"
   ]
  }
 ],
 "metadata": {
  "kernelspec": {
   "display_name": "Python 3",
   "language": "python",
   "name": "python3"
  },
  "language_info": {
   "codemirror_mode": {
    "name": "ipython",
    "version": 3
   },
   "file_extension": ".py",
   "mimetype": "text/x-python",
   "name": "python",
   "nbconvert_exporter": "python",
   "pygments_lexer": "ipython3",
   "version": "3.4.3"
  }
 },
 "nbformat": 4,
 "nbformat_minor": 0
}
