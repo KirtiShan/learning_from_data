{
 "cells": [
  {
   "cell_type": "markdown",
   "metadata": {},
   "source": [
    "# Linear regression"
   ]
  },
  {
   "cell_type": "code",
   "execution_count": 35,
   "metadata": {
    "collapsed": false
   },
   "outputs": [],
   "source": [
    "import numpy as np"
   ]
  },
  {
   "cell_type": "code",
   "execution_count": 52,
   "metadata": {
    "collapsed": true
   },
   "outputs": [],
   "source": [
    "def get_random_points(n):\n",
    "    return np.random.uniform(-1, 1, [n, 2])\n",
    "\n",
    "def get_random_line_vector():\n",
    "    rp = np.random.uniform(-1, 1, (2, 2)) \n",
    "    slope = (rp[0, 1] - rp[1, 1]) / (rp[0, 0] - rp[1, 0])\n",
    "    intercept = rp[0, 1] - rp[0, 0] * slope\n",
    "    return [intercept, slope, 1]    "
   ]
  },
  {
   "cell_type": "code",
   "execution_count": 69,
   "metadata": {
    "collapsed": false
   },
   "outputs": [],
   "source": [
    "def get_labels(pi, fx_vector):\n",
    "    labels = np.sign(np.dot(pi, fx_vector))\n",
    "#     labels = pi[:, 2] + pi[:, 1] * fx_vector[1] + pi[:, 0] * fx_vector[0] >= 0\n",
    "#     labels = np.where(labels, 1, -1)\n",
    "    return labels\n",
    "\n",
    "def get_plot_points_from_vector(vector):\n",
    "    x = np.array([-1, 1])\n",
    "    y = (- vector[1] * x - vector[0]) / vector[2]\n",
    "    return (x, y)"
   ]
  },
  {
   "cell_type": "code",
   "execution_count": 70,
   "metadata": {
    "collapsed": false
   },
   "outputs": [],
   "source": [
    "import matplotlib.pyplot as plt\n",
    "import time\n",
    "from IPython import display\n",
    "\n",
    "def update_plot(points, labels, fx_vector, gx_vector):\n",
    "    fig = plt.figure()\n",
    "    ax1 = fig.add_subplot(111)\n",
    "    ax1.set_ylim([-1,1])\n",
    "    ax1.set_xlim([-1,1])\n",
    "\n",
    "    x = points[:, 0]\n",
    "    y = points[:, 1]\n",
    "    ax1.scatter(x[labels==1], y[labels==1], s=30, c='b', marker='+')\n",
    "    ax1.scatter(x[labels==-1],y[labels==-1], s=30, c='r', marker=\"_\")\n",
    "\n",
    "    gx_x, gx_y  = get_plot_points_from_vector(gx_vector)\n",
    "    ax1.plot(gx_x, gx_y, 'k', lw=2)\n",
    "\n",
    "    fx_x, fx_y = get_plot_points_from_vector(fx_vector)\n",
    "    ax1.plot(fx_x, fx_y, 'g', lw=2)\n",
    "\n",
    "    plt.show()"
   ]
  },
  {
   "cell_type": "code",
   "execution_count": 71,
   "metadata": {
    "collapsed": false
   },
   "outputs": [],
   "source": [
    "def add_intercept(points):\n",
    "    pi = np.array([[1, x1, x2] for (x1, x2) in points])\n",
    "    return pi\n",
    "\n",
    "def solve_linear_regression(pi, labels):\n",
    "    return np.dot(np.dot(np.linalg.pinv(np.dot(pi.T, pi)), pi.T), labels)\n",
    "#     return np.dot(np.linalg.pinv(pi), labels)"
   ]
  },
  {
   "cell_type": "code",
   "execution_count": 72,
   "metadata": {
    "collapsed": true
   },
   "outputs": [],
   "source": [
    "def get_linear_regression_error(pi, labels, gx_vector):\n",
    "    predictions = np.sign(np.dot(pi, gx_vector))\n",
    "#     predictions = pi[:, 2] * gx_vector[2] + pi[:, 1] * gx_vector[1] + pi[:, 0] * gx_vector[0]  >= 0\n",
    "#     predictions = np.where(predictions, 1, -1)\n",
    "    return sum ((labels * predictions) < 0) / len(labels)"
   ]
  },
  {
   "cell_type": "code",
   "execution_count": 75,
   "metadata": {
    "collapsed": false,
    "scrolled": false
   },
   "outputs": [
    {
     "name": "stdout",
     "output_type": "stream",
     "text": [
      "0.027\n"
     ]
    },
    {
     "data": {
      "image/png": "[encoded data removed]",
      "text/plain": [
       "<matplotlib.figure.Figure at 0x11302b630>"
      ]
     },
     "metadata": {},
     "output_type": "display_data"
    }
   ],
   "source": [
    "error = 0\n",
    "N = 10\n",
    "RUNS = 1000\n",
    "\n",
    "# def run_experiment(n = 100):\n",
    "for i in range (RUNS):\n",
    "    points = get_random_points(N)\n",
    "    fx_vector= get_random_line_vector()\n",
    "    pi = add_intercept(points)\n",
    "    points = pi[:, 1:3]\n",
    "    labels = get_labels(pi, fx_vector)\n",
    "    gx_vector = solve_linear_regression(pi, labels)\n",
    "    error += get_linear_regression_error(pi, labels, gx_vector)\n",
    "\n",
    "print(error/RUNS)\n",
    "update_plot(points, labels, fx_vector, gx_vector)"
   ]
  }
 ],
 "metadata": {
  "kernelspec": {
   "display_name": "Python 3",
   "language": "python",
   "name": "python3"
  },
  "language_info": {
   "codemirror_mode": {
    "name": "ipython",
    "version": 3
   },
   "file_extension": ".py",
   "mimetype": "text/x-python",
   "name": "python",
   "nbconvert_exporter": "python",
   "pygments_lexer": "ipython3",
   "version": "3.4.3"
  }
 },
 "nbformat": 4,
 "nbformat_minor": 0
}
