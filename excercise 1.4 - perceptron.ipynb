{
 "cells": [
  {
   "cell_type": "code",
   "execution_count": 1,
   "metadata": {
    "collapsed": false
   },
   "outputs": [],
   "source": [
    "from random import random\n",
    "import numpy as np"
   ]
  },
  {
   "cell_type": "code",
   "execution_count": 44,
   "metadata": {
    "collapsed": false
   },
   "outputs": [],
   "source": [
    "N = 100\n",
    "x=np.random.rand(N)\n",
    "y=np.random.rand(N)"
   ]
  },
  {
   "cell_type": "code",
   "execution_count": 45,
   "metadata": {
    "collapsed": false
   },
   "outputs": [],
   "source": [
    "# x>y --> True\n",
    "mask = np.array([x > 0.5*y for x,y in zip(x,y)])"
   ]
  },
  {
   "cell_type": "code",
   "execution_count": 46,
   "metadata": {
    "collapsed": true
   },
   "outputs": [],
   "source": [
    "def get_line_from_weight(w):\n",
    "    p1 = [0, 1]\n",
    "    p2 = [-w[2]/w[1], (-w[2]-w[0])/w[1]]\n",
    "    return (p1, p2)"
   ]
  },
  {
   "cell_type": "code",
   "execution_count": 47,
   "metadata": {
    "collapsed": false
   },
   "outputs": [],
   "source": [
    "import matplotlib.pyplot as plt\n",
    "import time\n",
    "from IPython import display\n",
    "\n",
    "def update_plot(x, y, w):\n",
    "    fig = plt.figure()\n",
    "    ax1 = fig.add_subplot(111)\n",
    "    ax1.set_ylim([0,1])\n",
    "    ax1.set_xlim([0,1])\n",
    "\n",
    "    ax1.scatter(x[mask], y[mask], s=30, c='b', marker='+')\n",
    "    ax1.scatter(x[~mask],y[~mask], s=30, c='r', marker=\"+\")\n",
    "\n",
    "    p1, p2 = get_line_from_weight(w)\n",
    "    ax1.plot(p1, p2, 'k', lw=2)\n",
    "\n",
    "    plt.show()"
   ]
  },
  {
   "cell_type": "code",
   "execution_count": 48,
   "metadata": {
    "collapsed": true
   },
   "outputs": [],
   "source": [
    "def is_misclassified(x, y, m, w):\n",
    "    return (np.inner(np.array([x, y, 1]), w) > 0) != m\n",
    "\n",
    "def update_w(w, x1, x2, cl):\n",
    "    return w + (1 if cl else -1)*np.array([x1, x2, 1])"
   ]
  },
  {
   "cell_type": "code",
   "execution_count": 49,
   "metadata": {
    "collapsed": false
   },
   "outputs": [
    {
     "name": "stdout",
     "output_type": "stream",
     "text": [
      "44.138\n",
      "0.06279826906520458\n",
      "4413800\n"
     ]
    }
   ],
   "source": [
    "w = np.array([10*random(), 10*random(), 10*random()])\n",
    "\n",
    "converged=False\n",
    "\n",
    "s = 0\n",
    "missed = 0\n",
    "cnt = 0\n",
    "runs = 1000\n",
    "max_iter = 100000\n",
    "\n",
    "for l in range(runs):\n",
    "    for i in range(max_iter):\n",
    "        if converged==True:\n",
    "            break\n",
    "\n",
    "        converged=True\n",
    "        \n",
    "        for k in range(N):\n",
    "            cnt = cnt + 1\n",
    "            if is_misclassified(x[k], y[k], mask[k], w):\n",
    "                missed = missed + 1\n",
    "        \n",
    "        for k in range(N):\n",
    "            if is_misclassified(x[k], y[k], mask[k], w):\n",
    "                w = update_w(w, x[k], y[k], mask[k])\n",
    "                converged=False\n",
    "    s = s + i\n",
    "    w = np.array([10*random(), 10*random(), 10*random()])\n",
    "    converged=False\n",
    "    \n",
    "print(s/1000)\n",
    "print(missed/cnt)\n",
    "print(cnt)"
   ]
  },
  {
   "cell_type": "code",
   "execution_count": 19,
   "metadata": {
    "collapsed": false
   },
   "outputs": [
    {
     "data": {
      "image/png": "[encoded data removed]",
      "text/plain": [
       "<matplotlib.figure.Figure at 0x10ccaa828>"
      ]
     },
     "metadata": {},
     "output_type": "display_data"
    },
    {
     "name": "stdout",
     "output_type": "stream",
     "text": [
      "[ 5.02919163 -4.15659643  1.4404018 ]\n"
     ]
    }
   ],
   "source": [
    "w = np.array([10*random(), 10*random(), 10*random()])\n",
    "\n",
    "converged=False\n",
    "\n",
    "for i in range(1000):\n",
    "    if converged==True:\n",
    "        break\n",
    "    \n",
    "    display.clear_output(wait=True)\n",
    "    update_plot(x, y, w)\n",
    "    time.sleep(0.05)\n",
    "    \n",
    "    converged=True\n",
    "    for k in range(N):\n",
    "        if is_misclassified(x[k], y[k], mask[k], w):\n",
    "            w = update_w(w, x[k], y[k], mask[k])\n",
    "            converged=False\n",
    "            \n",
    "#             display.clear_output(wait=True)\n",
    "#             update_plot(x, y, w)\n",
    "#             time.sleep(1.0)\n",
    "#             print(w)\n",
    "#             break\n",
    "\n",
    "print(w)"
   ]
  },
  {
   "cell_type": "code",
   "execution_count": null,
   "metadata": {
    "collapsed": true
   },
   "outputs": [],
   "source": []
  }
 ],
 "metadata": {
  "kernelspec": {
   "display_name": "Python 3",
   "language": "python",
   "name": "python3"
  },
  "language_info": {
   "codemirror_mode": {
    "name": "ipython",
    "version": 3
   },
   "file_extension": ".py",
   "mimetype": "text/x-python",
   "name": "python",
   "nbconvert_exporter": "python",
   "pygments_lexer": "ipython3",
   "version": "3.4.3"
  }
 },
 "nbformat": 4,
 "nbformat_minor": 0
}
