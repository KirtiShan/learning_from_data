{
 "cells": [
  {
   "cell_type": "code",
   "execution_count": 49,
   "metadata": {
    "collapsed": true
   },
   "outputs": [],
   "source": [
    "from sklearn import svm"
   ]
  },
  {
   "cell_type": "code",
   "execution_count": 52,
   "metadata": {
    "collapsed": false
   },
   "outputs": [],
   "source": [
    "import pandas as pd\n",
    "import requests\n",
    "import io\n",
    "\n",
    "url = 'http://www.amlbook.com/data/zip/features.train'\n",
    "s = requests.get(url).content.decode('utf-8')\n",
    "df_train = pd.read_csv(io.StringIO(s), delim_whitespace=True, header=None, names=['digit', 'intensity', 'symmetry'])\n",
    "\n",
    "url = 'http://www.amlbook.com/data/zip/features.test'\n",
    "s = requests.get(url).content.decode('utf-8')\n",
    "df_test = pd.read_csv(io.StringIO(s), delim_whitespace=True, header=None, names=['digit', 'intensity', 'symmetry'])"
   ]
  },
  {
   "cell_type": "code",
   "execution_count": 53,
   "metadata": {
    "collapsed": false
   },
   "outputs": [
    {
     "data": {
      "text/html": [
       "<div>\n",
       "<table border=\"1\" class=\"dataframe\">\n",
       "  <thead>\n",
       "    <tr style=\"text-align: right;\">\n",
       "      <th></th>\n",
       "      <th>digit</th>\n",
       "      <th>intensity</th>\n",
       "      <th>symmetry</th>\n",
       "    </tr>\n",
       "  </thead>\n",
       "  <tbody>\n",
       "    <tr>\n",
       "      <th>0</th>\n",
       "      <td>6.0</td>\n",
       "      <td>0.341092</td>\n",
       "      <td>-4.528937</td>\n",
       "    </tr>\n",
       "    <tr>\n",
       "      <th>1</th>\n",
       "      <td>5.0</td>\n",
       "      <td>0.444131</td>\n",
       "      <td>-5.496812</td>\n",
       "    </tr>\n",
       "    <tr>\n",
       "      <th>2</th>\n",
       "      <td>4.0</td>\n",
       "      <td>0.231002</td>\n",
       "      <td>-2.886750</td>\n",
       "    </tr>\n",
       "    <tr>\n",
       "      <th>3</th>\n",
       "      <td>7.0</td>\n",
       "      <td>0.200275</td>\n",
       "      <td>-3.534375</td>\n",
       "    </tr>\n",
       "    <tr>\n",
       "      <th>4</th>\n",
       "      <td>3.0</td>\n",
       "      <td>0.291936</td>\n",
       "      <td>-4.352062</td>\n",
       "    </tr>\n",
       "  </tbody>\n",
       "</table>\n",
       "</div>"
      ],
      "text/plain": [
       "   digit  intensity  symmetry\n",
       "0    6.0   0.341092 -4.528937\n",
       "1    5.0   0.444131 -5.496812\n",
       "2    4.0   0.231002 -2.886750\n",
       "3    7.0   0.200275 -3.534375\n",
       "4    3.0   0.291936 -4.352062"
      ]
     },
     "execution_count": 53,
     "metadata": {},
     "output_type": "execute_result"
    }
   ],
   "source": [
    "df_train.head()"
   ]
  },
  {
   "cell_type": "code",
   "execution_count": 54,
   "metadata": {
    "collapsed": false
   },
   "outputs": [
    {
     "data": {
      "text/html": [
       "<div>\n",
       "<table border=\"1\" class=\"dataframe\">\n",
       "  <thead>\n",
       "    <tr style=\"text-align: right;\">\n",
       "      <th></th>\n",
       "      <th>digit</th>\n",
       "      <th>intensity</th>\n",
       "      <th>symmetry</th>\n",
       "    </tr>\n",
       "  </thead>\n",
       "  <tbody>\n",
       "    <tr>\n",
       "      <th>0</th>\n",
       "      <td>9.0</td>\n",
       "      <td>0.272178</td>\n",
       "      <td>-4.847937</td>\n",
       "    </tr>\n",
       "    <tr>\n",
       "      <th>1</th>\n",
       "      <td>6.0</td>\n",
       "      <td>0.265133</td>\n",
       "      <td>-5.102000</td>\n",
       "    </tr>\n",
       "    <tr>\n",
       "      <th>2</th>\n",
       "      <td>3.0</td>\n",
       "      <td>0.335926</td>\n",
       "      <td>-2.921562</td>\n",
       "    </tr>\n",
       "    <tr>\n",
       "      <th>3</th>\n",
       "      <td>6.0</td>\n",
       "      <td>0.264850</td>\n",
       "      <td>-4.156625</td>\n",
       "    </tr>\n",
       "    <tr>\n",
       "      <th>4</th>\n",
       "      <td>6.0</td>\n",
       "      <td>0.345338</td>\n",
       "      <td>-6.718438</td>\n",
       "    </tr>\n",
       "  </tbody>\n",
       "</table>\n",
       "</div>"
      ],
      "text/plain": [
       "   digit  intensity  symmetry\n",
       "0    9.0   0.272178 -4.847937\n",
       "1    6.0   0.265133 -5.102000\n",
       "2    3.0   0.335926 -2.921562\n",
       "3    6.0   0.264850 -4.156625\n",
       "4    6.0   0.345338 -6.718438"
      ]
     },
     "execution_count": 54,
     "metadata": {},
     "output_type": "execute_result"
    }
   ],
   "source": [
    "df_test.head()"
   ]
  },
  {
   "cell_type": "code",
   "execution_count": null,
   "metadata": {
    "collapsed": true
   },
   "outputs": [],
   "source": [
    "X = df_train[['intensity', 'symmetry']]\n",
    "Xt = df_test[['intensity', 'symmetry']]"
   ]
  },
  {
   "cell_type": "code",
   "execution_count": 79,
   "metadata": {
    "collapsed": true
   },
   "outputs": [],
   "source": [
    "Q = 2\n",
    "C = 0.01"
   ]
  },
  {
   "cell_type": "markdown",
   "metadata": {},
   "source": [
    "# 0, 2, 4, 6, 8 vs all"
   ]
  },
  {
   "cell_type": "code",
   "execution_count": 97,
   "metadata": {
    "collapsed": false
   },
   "outputs": [
    {
     "name": "stdout",
     "output_type": "stream",
     "text": [
      "0 vs all - ein 0.1638 - eout 0.1769 - sv 2390\n",
      "2 vs all - ein 0.1003 - eout 0.0987 - sv 1484\n",
      "4 vs all - ein 0.0894 - eout 0.0997 - sv 1319\n",
      "6 vs all - ein 0.0911 - eout 0.0847 - sv 1331\n",
      "8 vs all - ein 0.0743 - eout 0.0827 - sv 1119\n"
     ]
    }
   ],
   "source": [
    "for digit in range(0,10,2):\n",
    "    y = df_train.digit.apply(lambda x: 1 if x==digit else -1)\n",
    "    yt = df_test.digit.apply(lambda x: 1 if x==digit else -1)\n",
    "    \n",
    "    poly_svc = svm.SVC(kernel='poly', degree=Q, C=C).fit(X, y)\n",
    "    ein = 1-(poly_svc.predict(X) == y).mean()\n",
    "    eout = 1-(poly_svc.predict(Xt) == yt).mean()\n",
    "    sv = poly_svc.support_vectors_.shape[0]\n",
    "    print(\"%s vs all - ein %.4f - eout %.4f - sv %d\" %(digit, ein, eout, sv))"
   ]
  },
  {
   "cell_type": "markdown",
   "metadata": {},
   "source": [
    "# 1, 3, 5, 7 vs all"
   ]
  },
  {
   "cell_type": "code",
   "execution_count": 98,
   "metadata": {
    "collapsed": false
   },
   "outputs": [
    {
     "name": "stdout",
     "output_type": "stream",
     "text": [
      "1 vs all - ein 0.0158 - eout 0.0234 - sv 536\n",
      "3 vs all - ein 0.0902 - eout 0.0827 - sv 1354\n",
      "5 vs all - ein 0.0763 - eout 0.0797 - sv 1132\n",
      "7 vs all - ein 0.0885 - eout 0.0732 - sv 1300\n",
      "9 vs all - ein 0.0883 - eout 0.0882 - sv 1307\n"
     ]
    }
   ],
   "source": [
    "for digit in range(1,10,2):\n",
    "    y = df_train.digit.apply(lambda x: 1 if x==digit else -1)\n",
    "    yt = df_test.digit.apply(lambda x: 1 if x==digit else -1)\n",
    "    \n",
    "    poly_svc = svm.SVC(kernel='poly', degree=Q, C=C).fit(X, y)\n",
    "    ein = 1-(poly_svc.predict(X) == y).mean()\n",
    "    eout = 1-(poly_svc.predict(Xt) == yt).mean()\n",
    "    sv = poly_svc.support_vectors_.shape[0]\n",
    "    print(\"%s vs all - ein %.4f - eout %.4f - sv %d\" %(digit, ein, eout, sv))"
   ]
  },
  {
   "cell_type": "markdown",
   "metadata": {},
   "source": [
    "# 1 vs 5"
   ]
  },
  {
   "cell_type": "code",
   "execution_count": 153,
   "metadata": {
    "collapsed": false
   },
   "outputs": [],
   "source": [
    "digit=1\n",
    "digit2=5\n",
    "idx = df_train.digit.isin([digit, digit2])\n",
    "X = df_train.ix[idx, ['intensity', 'symmetry']]\n",
    "y = df_train.ix[idx].digit.apply(lambda x: 1 if x==digit else -1)\n",
    "\n",
    "idx = df_test.digit.isin([digit, digit2])\n",
    "Xt = df_test.ix[idx, ['intensity', 'symmetry']]\n",
    "yt = df_test.ix[idx].digit.apply(lambda x: 1 if x==digit else -1)"
   ]
  },
  {
   "cell_type": "code",
   "execution_count": 154,
   "metadata": {
    "collapsed": true
   },
   "outputs": [],
   "source": [
    "idx = df_test.digit.isin([digit, digit2])\n",
    "Xt = df_test.ix[idx, ['intensity', 'symmetry']]\n",
    "yt = df_test.ix[idx].digit.apply(lambda x: 1 if x==digit else -1)"
   ]
  },
  {
   "cell_type": "code",
   "execution_count": 151,
   "metadata": {
    "collapsed": false
   },
   "outputs": [
    {
     "name": "stdout",
     "output_type": "stream",
     "text": [
      "C 0.0001 - ein 0.02242 - eout 0.03066 - sv 510\n",
      "C 0.0010 - ein 0.00705 - eout 0.01887 - sv 152\n",
      "C 0.0100 - ein 0.00448 - eout 0.01887 - sv 54\n",
      "C 0.1000 - ein 0.00448 - eout 0.01887 - sv 28\n",
      "C 1.0000 - ein 0.00448 - eout 0.01887 - sv 25\n"
     ]
    }
   ],
   "source": [
    "Q=2\n",
    "for C in (0.0001, 0.001, 0.01, 0.1, 1):\n",
    "    poly_svc = svm.SVC(kernel='poly', degree=Q, C=C).fit(X, y)\n",
    "    ein = 1-(poly_svc.predict(X) == y).mean()\n",
    "    eout = 1-(poly_svc.predict(Xt) == yt).mean()\n",
    "    sv = poly_svc.support_vectors_.shape[0]\n",
    "    print(\"C %.4f - ein %.5f - eout %.5f - sv %d\" %(C, ein, eout, sv))"
   ]
  },
  {
   "cell_type": "code",
   "execution_count": 152,
   "metadata": {
    "collapsed": false
   },
   "outputs": [
    {
     "name": "stdout",
     "output_type": "stream",
     "text": [
      "C 0.0001 - ein 0.00641 - eout 0.01887 - sv 42\n",
      "C 0.0010 - ein 0.00512 - eout 0.01651 - sv 28\n",
      "C 0.0100 - ein 0.00448 - eout 0.01651 - sv 26\n",
      "C 0.1000 - ein 0.00448 - eout 0.01651 - sv 26\n",
      "C 1.0000 - ein 0.00448 - eout 0.01651 - sv 26\n"
     ]
    }
   ],
   "source": [
    "Q=5\n",
    "for C in (0.0001, 0.001, 0.01, 0.1, 1):\n",
    "    poly_svc = svm.SVC(kernel='poly', degree=Q, C=C).fit(X, y)\n",
    "    ein = 1-(poly_svc.predict(X) == y).mean()\n",
    "    eout = 1-(poly_svc.predict(Xt) == yt).mean()\n",
    "    sv = poly_svc.support_vectors_.shape[0]\n",
    "    print(\"C %.4f - ein %.5f - eout %.5f - sv %d\" %(C, ein, eout, sv))"
   ]
  },
  {
   "cell_type": "markdown",
   "metadata": {},
   "source": [
    "# Cross validation"
   ]
  },
  {
   "cell_type": "code",
   "execution_count": null,
   "metadata": {
    "collapsed": true
   },
   "outputs": [],
   "source": [
    "Q=2\n",
    "for C in (0.0001, 0.001, 0.01, 0.1, 1):\n",
    "    poly_svc = svm.SVC(kernel='poly', degree=Q, C=C).fit(X, y)\n",
    "    ein = 1-(poly_svc.predict(X) == y).mean()\n",
    "    eout = 1-(poly_svc.predict(Xt) == yt).mean()\n",
    "    sv = poly_svc.support_vectors_.shape[0]\n",
    "    print(\"C %.4f - ein %.5f - eout %.5f - sv %d\" %(C, ein, eout, sv))"
   ]
  },
  {
   "cell_type": "markdown",
   "metadata": {},
   "source": [
    "# RBF"
   ]
  },
  {
   "cell_type": "code",
   "execution_count": 223,
   "metadata": {
    "collapsed": false
   },
   "outputs": [],
   "source": [
    "digit=1\n",
    "digit2=5\n",
    "\n",
    "idx = df_train.digit.isin([digit, digit2])\n",
    "X = df_train.ix[idx, ['intensity', 'symmetry']]\n",
    "y = df_train.ix[idx].digit.apply(lambda x: 1 if x==digit else -1)"
   ]
  },
  {
   "cell_type": "code",
   "execution_count": 231,
   "metadata": {
    "collapsed": false
   },
   "outputs": [],
   "source": [
    "import numpy as np\n",
    "\n",
    "RUNS = 100\n",
    "C_min_list = np.zeros([RUNS, ])\n",
    "e_val_min_list = np.zeros([RUNS, ])\n",
    "Q=2\n",
    "\n",
    "for i in range(RUNS):\n",
    "    e_val_min = 1\n",
    "\n",
    "    msk = np.random.rand(len(X)) < 0.9\n",
    "    X_train = X[msk]\n",
    "    y_train = y[msk]\n",
    "    X_val = X[~msk]\n",
    "    y_val = y[~msk]\n",
    "\n",
    "    for C in (0.0001, 0.001, 0.01, 0.1, 1):\n",
    "        poly_svc = svm.SVC(kernel='poly', degree=Q, C=C).fit(X_train, y_train)\n",
    "        ein = 1-(poly_svc.predict(X_train) == y_train).mean()\n",
    "        eout = 1-(poly_svc.predict(X_val) == y_val).mean()\n",
    "        sv = poly_svc.support_vectors_.shape[0]\n",
    "        if e_val < e_val_min:\n",
    "            e_val_min = e_val\n",
    "            C_min = C\n",
    "    e_val_min_list[i] = e_val_min\n",
    "    C_min_list[i] = C_min\n",
    "#     print(\"C %.4f - ein %.5f - eval %.5f - sv %d\" %(C, ein, e_val, sv))"
   ]
  },
  {
   "cell_type": "code",
   "execution_count": 225,
   "metadata": {
    "collapsed": false
   },
   "outputs": [
    {
     "name": "stdout",
     "output_type": "stream",
     "text": [
      "0.000100 100\n"
     ]
    }
   ],
   "source": [
    "for u in np.unique(C_min_list):\n",
    "    print(\"%f %d\" % (u, (C_min_list == u).sum()))"
   ]
  }
 ],
 "metadata": {
  "kernelspec": {
   "display_name": "Python 3",
   "language": "python",
   "name": "python3"
  },
  "language_info": {
   "codemirror_mode": {
    "name": "ipython",
    "version": 3
   },
   "file_extension": ".py",
   "mimetype": "text/x-python",
   "name": "python",
   "nbconvert_exporter": "python",
   "pygments_lexer": "ipython3",
   "version": "3.4.3"
  }
 },
 "nbformat": 4,
 "nbformat_minor": 0
}
