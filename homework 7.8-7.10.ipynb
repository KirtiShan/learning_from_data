{
 "cells": [
  {
   "cell_type": "code",
   "execution_count": 37,
   "metadata": {
    "collapsed": false
   },
   "outputs": [],
   "source": [
    "from random import random\n",
    "import numpy as np"
   ]
  },
  {
   "cell_type": "code",
   "execution_count": 38,
   "metadata": {
    "collapsed": true
   },
   "outputs": [],
   "source": [
    "def get_random_points(n):\n",
    "    return np.random.uniform(-1, 1, [n, 2])\n",
    "\n",
    "def get_random_line_vector():\n",
    "    rp = np.random.uniform(-1, 1, (2, 2)) \n",
    "    slope = (rp[0, 1] - rp[1, 1]) / (rp[0, 0] - rp[1, 0])\n",
    "    intercept = rp[0, 1] - rp[0, 0] * slope\n",
    "    return [intercept, slope, 1]    \n",
    "\n",
    "def get_labels(pi, vector):\n",
    "    labels = np.sign(np.dot(pi, vector))\n",
    "    return labels\n",
    "\n",
    "def add_intercept(points):\n",
    "    pi = np.array([[1, x1, x2] for (x1, x2) in points])\n",
    "    return pi"
   ]
  },
  {
   "cell_type": "code",
   "execution_count": 39,
   "metadata": {
    "collapsed": false
   },
   "outputs": [],
   "source": [
    "def get_initial_w():\n",
    "    w = np.array([0, 0 , 0.001])\n",
    "    return w"
   ]
  },
  {
   "cell_type": "code",
   "execution_count": 40,
   "metadata": {
    "collapsed": true
   },
   "outputs": [],
   "source": [
    "def get_perceptron_predictions(pi, labels, w):\n",
    "    return np.sign(np.dot(pi, w)) == labels\n",
    "\n",
    "def update_w(w, mp, label):\n",
    "    return w + label*mp"
   ]
  },
  {
   "cell_type": "code",
   "execution_count": 41,
   "metadata": {
    "collapsed": false
   },
   "outputs": [],
   "source": [
    "from itertools import count\n",
    "\n",
    "def train_perceptron(pi, labels, w): \n",
    "    for num_iterations in count(start=0, step=1):    \n",
    "        predictions = get_perceptron_predictions(pi, labels, w)\n",
    "\n",
    "        if predictions.all():\n",
    "            break\n",
    "\n",
    "        missclassified_points_indexes = np.where(predictions==False)[0]\n",
    "        k = np.random.choice(missclassified_points_indexes, 1)[0]\n",
    "        w = update_w(w, pi[k], labels[k])\n",
    "#         print(w)\n",
    "    return w, num_iterations"
   ]
  },
  {
   "cell_type": "code",
   "execution_count": 75,
   "metadata": {
    "collapsed": true
   },
   "outputs": [],
   "source": [
    "N_TEST = 10000\n",
    "points_test = get_random_points(N_TEST) # hack for speed\n",
    "pi_test = add_intercept(points_test)\n",
    "\n",
    "def evaluate_solution(w, fx_vector):\n",
    "    labels_test = get_labels(pi_test, fx_vector)\n",
    "    return get_perceptron_predictions(pi_test, labels_test, w).sum() / N_TEST"
   ]
  },
  {
   "cell_type": "markdown",
   "metadata": {},
   "source": [
    "# SVM"
   ]
  },
  {
   "cell_type": "code",
   "execution_count": 103,
   "metadata": {
    "collapsed": true
   },
   "outputs": [],
   "source": [
    "def fit_svm(x, y):\n",
    "    NUM = x.shape[0]\n",
    "    DIM = x.shape[1]\n",
    "    # we'll solve the dual\n",
    "    # obtain the kernel\n",
    "    K = y[:, None] * x\n",
    "    K = np.dot(K, K.T)\n",
    "    P = matrix(K)\n",
    "    q = matrix(-np.ones((NUM, 1)))\n",
    "    G = matrix(-np.eye(NUM))\n",
    "    h = matrix(np.zeros(NUM))\n",
    "    A = matrix(y.reshape(1, -1))\n",
    "    b = matrix(np.zeros(1))\n",
    "    solvers.options['show_progress'] = False\n",
    "    sol = solvers.qp(P, q, G, h, A, b)\n",
    "    alphas = np.array(sol['x'])\n",
    "    return alphas"
   ]
  },
  {
   "cell_type": "code",
   "execution_count": 123,
   "metadata": {
    "collapsed": false
   },
   "outputs": [],
   "source": [
    "def get_w_svm(alphas, points, labels):\n",
    "    # get weights\n",
    "    w_svm = np.sum(alphas * labels[:, None] * points, axis = 0)\n",
    "    # get bias\n",
    "    cond = (alphas > 1e-6).reshape(-1)\n",
    "    b = labels[cond] - np.dot(points[cond], w_svm)\n",
    "    bias = b[0]\n",
    "\n",
    "    # normalize\n",
    "    norm = np.linalg.norm(w_svm)\n",
    "    w_svm_norm, bias_norm = w_svm / norm, bias / norm\n",
    "\n",
    "    w_svm_final = [bias_norm, w_svm_norm[0], w_svm_norm[1]]\n",
    "    return w_svm_final"
   ]
  },
  {
   "cell_type": "markdown",
   "metadata": {},
   "source": [
    "# Compare Perceptron to SVM"
   ]
  },
  {
   "cell_type": "code",
   "execution_count": 243,
   "metadata": {
    "collapsed": false,
    "scrolled": false
   },
   "outputs": [],
   "source": [
    "def run_experiment(n=10):\n",
    "    # create points\n",
    "    #     n = 10\n",
    "    points = get_random_points(n)\n",
    "    pi = add_intercept(points)\n",
    "    while True:\n",
    "        fx_vector = get_random_line_vector()\n",
    "        labels = get_labels(pi, fx_vector)\n",
    "        if (labels < 0).any() and (labels > 0).any():\n",
    "            break\n",
    "    \n",
    "    # train & evaluate pereceptron\n",
    "    w_perceptron = get_initial_w()\n",
    "    w_perceptron, iterations = train_perceptron(pi, labels, w_perceptron)\n",
    "    acc_perceptron = evaluate_solution(w_perceptron, fx_vector)\n",
    "    \n",
    "    # train & evaluate svm\n",
    "    alphas = fit_svm(points, labels)\n",
    "    w_svm = get_w_svm(alphas, points, labels)\n",
    "    acc_svm = evaluate_solution(w_svm, fx_vector)\n",
    "    \n",
    "    return acc_svm > acc_perceptron"
   ]
  },
  {
   "cell_type": "code",
   "execution_count": 244,
   "metadata": {
    "collapsed": false
   },
   "outputs": [
    {
     "data": {
      "text/plain": [
       "0.60499999999999998"
      ]
     },
     "execution_count": 244,
     "metadata": {},
     "output_type": "execute_result"
    }
   ],
   "source": [
    "RUNS = 1000\n",
    "N  = 10\n",
    "c = 0\n",
    "\n",
    "for i in range(RUNS):\n",
    "    c += run_experiment(N)\n",
    "\n",
    "c/RUNS"
   ]
  },
  {
   "cell_type": "markdown",
   "metadata": {},
   "source": [
    "# Visualize"
   ]
  },
  {
   "cell_type": "code",
   "execution_count": 171,
   "metadata": {
    "collapsed": true
   },
   "outputs": [],
   "source": [
    "import matplotlib.pyplot as plt\n",
    "\n",
    "DIM = 2\n",
    "COLORS = ['red', 'blue']\n",
    "\n",
    "def plot_data_with_labels(x, y, ax):\n",
    "    unique = np.unique(y)\n",
    "    for li in range(len(unique)):\n",
    "        x_sub = x[y == unique[li]]\n",
    "        ax.scatter(x_sub[:, 0], x_sub[:, 1], c = COLORS[li])"
   ]
  },
  {
   "cell_type": "code",
   "execution_count": 150,
   "metadata": {
    "collapsed": false
   },
   "outputs": [],
   "source": [
    "# def plot_svm_separator(ax, w_svm_norm, bias_norm):\n",
    "#     slope = -w[0] / w[1]\n",
    "#     intercept = -b / w[1]\n",
    "#     x = np.arange(-1, 2)\n",
    "#     ax.plot(x, x * slope + intercept, 'k-')"
   ]
  },
  {
   "cell_type": "code",
   "execution_count": 151,
   "metadata": {
    "collapsed": true
   },
   "outputs": [],
   "source": [
    "def get_plot_points_from_vector(vector):\n",
    "    x = np.array([-1, 1])\n",
    "    y = (- vector[1] * x - vector[0]) / vector[2]\n",
    "    return (x, y)"
   ]
  },
  {
   "cell_type": "code",
   "execution_count": 152,
   "metadata": {
    "collapsed": false
   },
   "outputs": [
    {
     "data": {
      "image/png": "[encoded data removed]",
      "text/plain": [
       "<matplotlib.figure.Figure at 0x11455bdd8>"
      ]
     },
     "metadata": {},
     "output_type": "display_data"
    }
   ],
   "source": [
    "fig, ax = plt.subplots()\n",
    "# plot_separator(ax, w, 0)\n",
    "plot_data_with_labels(points, labels, ax)\n",
    "\n",
    "lx, ly  = get_plot_points_from_vector(fx_vector)\n",
    "ax.plot(lx, ly, 'g', lw=1)\n",
    "\n",
    "lx, ly  = get_plot_points_from_vector(w)\n",
    "ax.plot(lx, ly, 'b', lw=2)\n",
    "\n",
    "lx, ly  = get_plot_points_from_vector(w_s)\n",
    "ax.plot(lx, ly, 'r', lw=3)\n",
    "\n",
    "# show data and w\n",
    "plot_separator(ax, w_svm_norm, bias_norm)"
   ]
  },
  {
   "cell_type": "code",
   "execution_count": null,
   "metadata": {
    "collapsed": true
   },
   "outputs": [],
   "source": []
  }
 ],
 "metadata": {
  "kernelspec": {
   "display_name": "Python 3",
   "language": "python",
   "name": "python3"
  },
  "language_info": {
   "codemirror_mode": {
    "name": "ipython",
    "version": 3
   },
   "file_extension": ".py",
   "mimetype": "text/x-python",
   "name": "python",
   "nbconvert_exporter": "python",
   "pygments_lexer": "ipython3",
   "version": "3.4.3"
  }
 },
 "nbformat": 4,
 "nbformat_minor": 0
}
