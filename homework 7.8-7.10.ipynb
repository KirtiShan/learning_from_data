{
 "cells": [
  {
   "cell_type": "code",
   "execution_count": 2,
   "metadata": {
    "collapsed": false
   },
   "outputs": [],
   "source": [
    "from random import random\n",
    "import numpy as np"
   ]
  },
  {
   "cell_type": "code",
   "execution_count": 3,
   "metadata": {
    "collapsed": true
   },
   "outputs": [],
   "source": [
    "def get_random_points(n):\n",
    "    return np.random.uniform(-1, 1, [n, 2])\n",
    "\n",
    "def get_random_line_vector():\n",
    "    rp = np.random.uniform(-1, 1, (2, 2)) \n",
    "    slope = (rp[0, 1] - rp[1, 1]) / (rp[0, 0] - rp[1, 0])\n",
    "    intercept = rp[0, 1] - rp[0, 0] * slope\n",
    "    return [intercept, slope, 1]    \n",
    "\n",
    "def get_labels(pi, vector):\n",
    "    labels = np.sign(np.dot(pi, vector))\n",
    "    return labels\n",
    "\n",
    "def add_intercept(points):\n",
    "    pi = np.array([[1, x1, x2] for (x1, x2) in points])\n",
    "    return pi"
   ]
  },
  {
   "cell_type": "code",
   "execution_count": 4,
   "metadata": {
    "collapsed": false
   },
   "outputs": [],
   "source": [
    "def get_initial_w():\n",
    "    w = np.array([0, 0 , 0.001])\n",
    "    return w"
   ]
  },
  {
   "cell_type": "code",
   "execution_count": 5,
   "metadata": {
    "collapsed": true
   },
   "outputs": [],
   "source": [
    "def get_perceptron_predictions(pi, labels, w):\n",
    "    return np.sign(np.dot(pi, w)) == labels\n",
    "\n",
    "def update_w(w, mp, label):\n",
    "    return w + label*mp"
   ]
  },
  {
   "cell_type": "code",
   "execution_count": 18,
   "metadata": {
    "collapsed": false
   },
   "outputs": [],
   "source": [
    "from itertools import count\n",
    "\n",
    "def train_perceptron(pi, labels, w): \n",
    "    for num_iterations in count(start=0, step=1):    \n",
    "        predictions = get_perceptron_predictions(pi, labels, w)\n",
    "\n",
    "        if predictions.all():\n",
    "            break\n",
    "\n",
    "        missclassified_points_indexes = np.where(predictions==False)[0]\n",
    "        k = np.random.choice(missclassified_points_indexes, 1)[0]\n",
    "        w = update_w(w, pi[k], labels[k])\n",
    "#         print(w)\n",
    "    return w, num_iterations"
   ]
  },
  {
   "cell_type": "code",
   "execution_count": 52,
   "metadata": {
    "collapsed": true
   },
   "outputs": [],
   "source": [
    "N_TEST = 10000\n",
    "points_test = get_random_points(N_TEST) # hack for speed\n",
    "pi_test = add_intercept(points_test)\n",
    "\n",
    "def evaluate_perceptron(w, fx_vector):\n",
    "    labels_test = get_labels(pi_test, fx_vector)\n",
    "    return get_perceptron_predictions(pi_test, labels_test, w).sum() / N_TEST"
   ]
  },
  {
   "cell_type": "code",
   "execution_count": 53,
   "metadata": {
    "collapsed": false,
    "scrolled": false
   },
   "outputs": [],
   "source": [
    "def run_perceptron_experiment(n=10, animate=False):\n",
    "    points = get_random_points(n)\n",
    "    fx_vector = get_random_line_vector()\n",
    "    pi = add_intercept(points)\n",
    "    labels = get_labels(pi, fx_vector)\n",
    "    w = get_initial_w()\n",
    "\n",
    "    w, iterations = train_perceptron(pi, labels, w)\n",
    "    return evaluate_perceptron(w, fx_vector)"
   ]
  },
  {
   "cell_type": "code",
   "execution_count": 54,
   "metadata": {
    "collapsed": false
   },
   "outputs": [
    {
     "name": "stdout",
     "output_type": "stream",
     "text": [
      "0.88906206\n"
     ]
    }
   ],
   "source": [
    "RUNS = 10000\n",
    "N  = 10\n",
    "perceptron_accuracy = 0\n",
    "\n",
    "for i in range(RUNS):\n",
    "    perceptron_accuracy += run_perceptron_experiment(N)\n",
    "\n",
    "print(perceptron_accuracy/RUNS)"
   ]
  },
  {
   "cell_type": "markdown",
   "metadata": {},
   "source": [
    "# SVM"
   ]
  },
  {
   "cell_type": "code",
   "execution_count": 55,
   "metadata": {
    "collapsed": true
   },
   "outputs": [],
   "source": [
    "from cvxopt import matrix, solvers"
   ]
  },
  {
   "cell_type": "code",
   "execution_count": 56,
   "metadata": {
    "collapsed": false
   },
   "outputs": [
    {
     "name": "stdout",
     "output_type": "stream",
     "text": [
      "     pcost       dcost       gap    pres   dres\n",
      " 0:  1.8889e+00  7.7778e-01  1e+00  3e-16  2e+00\n",
      " 1:  1.8769e+00  1.8320e+00  4e-02  2e-16  6e-02\n",
      " 2:  1.8750e+00  1.8739e+00  1e-03  2e-16  5e-04\n",
      " 3:  1.8750e+00  1.8750e+00  1e-05  1e-16  5e-06\n",
      " 4:  1.8750e+00  1.8750e+00  1e-07  1e-16  5e-08\n",
      "Optimal solution found.\n"
     ]
    }
   ],
   "source": [
    ">>> Q = 2*matrix([ [2, .5], [.5, 1] ])\n",
    ">>> p = matrix([1.0, 1.0])\n",
    ">>> G = matrix([[-1.0,0.0],[0.0,-1.0]])\n",
    ">>> h = matrix([0.0,0.0])\n",
    ">>> A = matrix([1.0, 1.0], (1,2))\n",
    ">>> b = matrix(1.0)\n",
    ">>> sol=solvers.qp(Q, p, G, h, A, b)"
   ]
  },
  {
   "cell_type": "code",
   "execution_count": 57,
   "metadata": {
    "collapsed": false
   },
   "outputs": [
    {
     "name": "stdout",
     "output_type": "stream",
     "text": [
      "[ 2.50e-01]\n",
      "[ 7.50e-01]\n",
      "\n"
     ]
    }
   ],
   "source": [
    "print(sol['x'])"
   ]
  },
  {
   "cell_type": "code",
   "execution_count": 123,
   "metadata": {
    "collapsed": true
   },
   "outputs": [],
   "source": [
    "def fit_svm(x, y):\n",
    "    NUM = x.shape[0]\n",
    "    DIM = x.shape[1]\n",
    "    # we'll solve the dual\n",
    "    # obtain the kernel\n",
    "    K = y[:, None] * x\n",
    "    K = np.dot(K, K.T)\n",
    "    P = matrix(K)\n",
    "    q = matrix(-np.ones((NUM, 1)))\n",
    "    G = matrix(-np.eye(NUM))\n",
    "    h = matrix(np.zeros(NUM))\n",
    "    A = matrix(y.reshape(1, -1))\n",
    "    b = matrix(np.zeros(1))\n",
    "    solvers.options['show_progress'] = True\n",
    "    sol = solvers.qp(P, q, G, h, A, b)\n",
    "    alphas = np.array(sol['x'])\n",
    "    return alphas\n"
   ]
  },
  {
   "cell_type": "code",
   "execution_count": 124,
   "metadata": {
    "collapsed": false
   },
   "outputs": [
    {
     "name": "stdout",
     "output_type": "stream",
     "text": [
      "     pcost       dcost       gap    pres   dres\n",
      " 0: -4.2632e+00 -1.0403e+01  3e+01  5e+00  2e+00\n",
      " 1: -1.1091e+01 -1.5087e+01  9e+00  1e+00  7e-01\n",
      " 2: -2.3844e+01 -2.8021e+01  9e+00  9e-01  4e-01\n",
      " 3: -2.6071e+01 -2.6926e+01  2e+00  1e-01  6e-02\n",
      " 4: -2.5735e+01 -2.5852e+01  1e-01  1e-03  5e-04\n",
      " 5: -2.5816e+01 -2.5817e+01  1e-03  1e-05  5e-06\n",
      " 6: -2.5817e+01 -2.5817e+01  1e-05  1e-07  5e-08\n",
      " 7: -2.5817e+01 -2.5817e+01  1e-07  1e-09  5e-10\n",
      "Optimal solution found.\n"
     ]
    }
   ],
   "source": [
    "alphas = fit_svm(points, labels)"
   ]
  },
  {
   "cell_type": "code",
   "execution_count": 131,
   "metadata": {
    "collapsed": false
   },
   "outputs": [],
   "source": [
    "# get weights\n",
    "w = np.sum(alphas * labels[:, None] * points, axis = 0)\n",
    "# get bias\n",
    "cond = (alphas > 1e-4).reshape(-1)\n",
    "b = labels[cond] - np.dot(points[cond], w)\n",
    "bias = b[0]\n",
    "\n",
    "# normalize\n",
    "norm = np.linalg.norm(w)\n",
    "w, bias = w / norm, bias / norm"
   ]
  },
  {
   "cell_type": "code",
   "execution_count": 132,
   "metadata": {
    "collapsed": true
   },
   "outputs": [],
   "source": [
    "import matplotlib.pyplot as plt\n",
    "\n",
    "DIM = 2\n",
    "COLORS = ['red', 'blue']\n",
    "\n",
    "def plot_data_with_labels(x, y, ax):\n",
    "    unique = np.unique(y)\n",
    "    for li in range(len(unique)):\n",
    "        x_sub = x[y == unique[li]]\n",
    "        ax.scatter(x_sub[:, 0], x_sub[:, 1], c = COLORS[li])"
   ]
  },
  {
   "cell_type": "code",
   "execution_count": 133,
   "metadata": {
    "collapsed": false
   },
   "outputs": [],
   "source": [
    "def plot_separator(ax, w, b):\n",
    "    slope = -w[0] / w[1]\n",
    "    intercept = -b / w[1]\n",
    "    x = np.arange(-1, 2)\n",
    "    ax.plot(x, x * slope + intercept, 'k-')"
   ]
  },
  {
   "cell_type": "code",
   "execution_count": 134,
   "metadata": {
    "collapsed": true
   },
   "outputs": [],
   "source": [
    "def get_plot_points_from_vector(vector):\n",
    "    x = np.array([-1, 1])\n",
    "    y = (- vector[1] * x - vector[0]) / vector[2]\n",
    "    return (x, y)"
   ]
  },
  {
   "cell_type": "code",
   "execution_count": 136,
   "metadata": {
    "collapsed": false
   },
   "outputs": [
    {
     "data": {
      "text/plain": [
       "array([-0.84204602,  0.53940568])"
      ]
     },
     "execution_count": 136,
     "metadata": {},
     "output_type": "execute_result"
    }
   ],
   "source": [
    "w"
   ]
  },
  {
   "cell_type": "code",
   "execution_count": 141,
   "metadata": {
    "collapsed": false
   },
   "outputs": [
    {
     "data": {
      "text/plain": [
       "-0.24687404945098712"
      ]
     },
     "execution_count": 141,
     "metadata": {},
     "output_type": "execute_result"
    }
   ],
   "source": [
    "bias"
   ]
  },
  {
   "cell_type": "code",
   "execution_count": 138,
   "metadata": {
    "collapsed": false
   },
   "outputs": [
    {
     "data": {
      "text/plain": [
       "[-0.78475866393421767, -2.1083928656251252, 1]"
      ]
     },
     "execution_count": 138,
     "metadata": {},
     "output_type": "execute_result"
    }
   ],
   "source": [
    "fx_vector"
   ]
  },
  {
   "cell_type": "code",
   "execution_count": 142,
   "metadata": {
    "collapsed": false
   },
   "outputs": [
    {
     "data": {
      "image/png": "[encoded data removed]",
      "text/plain": [
       "<matplotlib.figure.Figure at 0x10a2262e8>"
      ]
     },
     "metadata": {},
     "output_type": "display_data"
    }
   ],
   "source": [
    "fig, ax = plt.subplots()\n",
    "# plot_separator(ax, w, 0)\n",
    "plot_data_with_labels(points, labels, ax)\n",
    "\n",
    "lx, ly  = get_plot_points_from_vector(fx_vector)\n",
    "ax.plot(lx, ly, 'g', lw=2)\n",
    "\n",
    "# show data and w\n",
    "plot_separator(ax, w, bias)"
   ]
  },
  {
   "cell_type": "code",
   "execution_count": null,
   "metadata": {
    "collapsed": true
   },
   "outputs": [],
   "source": []
  }
 ],
 "metadata": {
  "kernelspec": {
   "display_name": "Python 3",
   "language": "python",
   "name": "python3"
  },
  "language_info": {
   "codemirror_mode": {
    "name": "ipython",
    "version": 3
   },
   "file_extension": ".py",
   "mimetype": "text/x-python",
   "name": "python",
   "nbconvert_exporter": "python",
   "pygments_lexer": "ipython3",
   "version": "3.4.3"
  }
 },
 "nbformat": 4,
 "nbformat_minor": 0
}
