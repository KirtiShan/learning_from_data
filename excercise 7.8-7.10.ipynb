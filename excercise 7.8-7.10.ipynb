{
 "cells": [
  {
   "cell_type": "code",
   "execution_count": 16,
   "metadata": {
    "collapsed": false
   },
   "outputs": [],
   "source": [
    "from random import random\n",
    "import numpy as np"
   ]
  },
  {
   "cell_type": "code",
   "execution_count": 17,
   "metadata": {
    "collapsed": true
   },
   "outputs": [],
   "source": [
    "def get_random_points(n):\n",
    "    return np.random.uniform(-1, 1, [n, 2])\n",
    "\n",
    "def get_random_line_vector():\n",
    "    rp = np.random.uniform(-1, 1, (2, 2)) \n",
    "    slope = (rp[0, 1] - rp[1, 1]) / (rp[0, 0] - rp[1, 0])\n",
    "    intercept = rp[0, 1] - rp[0, 0] * slope\n",
    "    return [intercept, slope, 1]    \n",
    "\n",
    "def get_labels(pi, vector):\n",
    "    labels = np.sign(np.dot(pi, vector))\n",
    "    return labels\n",
    "\n",
    "def add_intercept(points):\n",
    "    pi = np.array([[1, x1, x2] for (x1, x2) in points])\n",
    "    return pi"
   ]
  },
  {
   "cell_type": "code",
   "execution_count": 79,
   "metadata": {
    "collapsed": false
   },
   "outputs": [],
   "source": [
    "def get_initial_w():\n",
    "    w = np.array([0, 0 , 0.001])\n",
    "    return w"
   ]
  },
  {
   "cell_type": "code",
   "execution_count": 158,
   "metadata": {
    "collapsed": true
   },
   "outputs": [],
   "source": [
    "def get_perceptron_predictions(pi, labels, w):\n",
    "    return np.sign(np.dot(pi, w)) == labels\n",
    "\n",
    "def update_w(w, mp, label):\n",
    "    return w + label*mp"
   ]
  },
  {
   "cell_type": "code",
   "execution_count": 176,
   "metadata": {
    "collapsed": false
   },
   "outputs": [],
   "source": [
    "from itertools import count\n",
    "\n",
    "def train_perceptron(pi, labels, w): \n",
    "    for num_iterations in count(start=0, step=1):    \n",
    "        predictions = get_perceptron_predictions(pi, labels, w)\n",
    "\n",
    "        if predictions.all():\n",
    "            break\n",
    "\n",
    "        missclassified_points_indexes = np.where(predictions==False)[0]\n",
    "        k = np.random.choice(missclassified_points_indexes, 1)[0]\n",
    "        w = update_w(w, pi[k], labels[k])\n",
    "#         print(w)\n",
    "    return w, num_iterations"
   ]
  },
  {
   "cell_type": "code",
   "execution_count": 186,
   "metadata": {
    "collapsed": false,
    "scrolled": false
   },
   "outputs": [],
   "source": [
    "def run_experiment(n=10, animate=False):\n",
    "    points = get_random_points(n)\n",
    "    fx_vector = get_random_line_vector()\n",
    "    pi = add_intercept(points)\n",
    "    labels = get_labels(pi, fx_vector)\n",
    "    w = get_initial_w()\n",
    "\n",
    "\n",
    "    w, iterations = train_perceptron(pi, labels, w)\n",
    "    return iterations, w"
   ]
  },
  {
   "cell_type": "code",
   "execution_count": 190,
   "metadata": {
    "collapsed": false
   },
   "outputs": [
    {
     "name": "stdout",
     "output_type": "stream",
     "text": [
      "10.0772\n"
     ]
    }
   ],
   "source": [
    "RUNS = 10000\n",
    "N  = 10\n",
    "total_iterations = 0\n",
    "\n",
    "for i in range(RUNS):\n",
    "    iterations, w = run_experiment(N)\n",
    "    total_iterations += iterations\n",
    "\n",
    "print(total_iterations/RUNS)"
   ]
  }
 ],
 "metadata": {
  "kernelspec": {
   "display_name": "Python 3",
   "language": "python",
   "name": "python3"
  },
  "language_info": {
   "codemirror_mode": {
    "name": "ipython",
    "version": 3
   },
   "file_extension": ".py",
   "mimetype": "text/x-python",
   "name": "python",
   "nbconvert_exporter": "python",
   "pygments_lexer": "ipython3",
   "version": "3.4.3"
  }
 },
 "nbformat": 4,
 "nbformat_minor": 0
}
