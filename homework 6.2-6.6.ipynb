{
 "cells": [
  {
   "cell_type": "code",
   "execution_count": 24,
   "metadata": {
    "collapsed": true
   },
   "outputs": [],
   "source": [
    "import numpy as np\n",
    "import pandas as pd"
   ]
  },
  {
   "cell_type": "code",
   "execution_count": 36,
   "metadata": {
    "collapsed": false
   },
   "outputs": [],
   "source": [
    "train = pd.read_csv(\"./data/in.dta\", delim_whitespace=True, header=None).as_matrix()\n",
    "test = pd.read_csv(\"./data/out.dta\", delim_whitespace=True, header=None).as_matrix()"
   ]
  },
  {
   "cell_type": "code",
   "execution_count": 86,
   "metadata": {
    "collapsed": true
   },
   "outputs": [],
   "source": [
    "train_x = train[:,:2]\n",
    "train_y = train[:,2]\n",
    "\n",
    "test_x = test[:,:2]\n",
    "test_y = test[:,2]"
   ]
  },
  {
   "cell_type": "code",
   "execution_count": 256,
   "metadata": {
    "collapsed": true
   },
   "outputs": [],
   "source": [
    "def transform(points_x):\n",
    "    n = points_x.shape[0]\n",
    "    m = 8\n",
    "    points_z = np.zeros([n, m])\n",
    "    points_z[:,0] = 1 # add intercept\n",
    "    points_z[:,1:3] = points_x[:,0:2] # copy over the original features\n",
    "    points_z[:,3:5] = np.power(points_x[:, 0:2], 2) # powers\n",
    "    points_z[:,5] = points_x[:, 0] * points_x[:, 1] # product\n",
    "    points_z[:,6] = np.abs(points_x[:, 0] - points_x[:, 1]) # abs diff\n",
    "    points_z[:,7] = np.abs(points_x[:, 0] + points_x[:, 1]) # abs sum\n",
    "    return points_z\n",
    "    \n",
    "def solve_linear_regression(pi, labels):\n",
    "    return np.dot(np.dot(np.linalg.pinv(np.dot(pi.T, pi)), pi.T), labels)\n",
    "#     return np.dot(np.linalg.pinv(pi), labels)\n",
    "\n",
    "def get_linear_regression_error(pi, labels, gx_vector):\n",
    "    predictions = np.sign(np.dot(pi, gx_vector))\n",
    "#     predictions = pi[:, 2] * gx_vector[2] + pi[:, 1] * gx_vector[1] + pi[:, 0] * gx_vector[0]  >= 0\n",
    "#     predictions = np.where(predictions, 1, -1)\n",
    "    return sum ((labels * predictions) < 0) / len(labels)"
   ]
  },
  {
   "cell_type": "code",
   "execution_count": 259,
   "metadata": {
    "collapsed": false
   },
   "outputs": [],
   "source": [
    "train_z = transform(train_x)\n",
    "test_z = transform(test_x)"
   ]
  },
  {
   "cell_type": "code",
   "execution_count": null,
   "metadata": {
    "collapsed": true
   },
   "outputs": [],
   "source": []
  }
 ],
 "metadata": {
  "kernelspec": {
   "display_name": "Python 3",
   "language": "python",
   "name": "python3"
  },
  "language_info": {
   "codemirror_mode": {
    "name": "ipython",
    "version": 3
   },
   "file_extension": ".py",
   "mimetype": "text/x-python",
   "name": "python",
   "nbconvert_exporter": "python",
   "pygments_lexer": "ipython3",
   "version": "3.4.3"
  }
 },
 "nbformat": 4,
 "nbformat_minor": 0
}
