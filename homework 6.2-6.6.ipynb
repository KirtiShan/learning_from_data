{
 "cells": [
  {
   "cell_type": "code",
   "execution_count": 24,
   "metadata": {
    "collapsed": true
   },
   "outputs": [],
   "source": [
    "import numpy as np\n",
    "import pandas as pd"
   ]
  },
  {
   "cell_type": "code",
   "execution_count": 256,
   "metadata": {
    "collapsed": true
   },
   "outputs": [],
   "source": [
    "def transform(points_x):\n",
    "    n = points_x.shape[0]\n",
    "    m = 8\n",
    "    points_z = np.zeros([n, m])\n",
    "    points_z[:,0] = 1 # add intercept\n",
    "    points_z[:,1:3] = points_x[:,0:2] # copy over the original features\n",
    "    points_z[:,3:5] = np.power(points_x[:, 0:2], 2) # powers\n",
    "    points_z[:,5] = points_x[:, 0] * points_x[:, 1] # product\n",
    "    points_z[:,6] = np.abs(points_x[:, 0] - points_x[:, 1]) # abs diff\n",
    "    points_z[:,7] = np.abs(points_x[:, 0] + points_x[:, 1]) # abs sum\n",
    "    return points_z\n",
    "    \n",
    "def solve_linear_regression(pi, labels):\n",
    "    return np.dot(np.dot(np.linalg.pinv(np.dot(pi.T, pi)), pi.T), labels)\n",
    "\n",
    "def get_linear_regression_error(pi, labels, gx_vector):\n",
    "    predictions = np.sign(np.dot(pi, gx_vector))\n",
    "    return sum ((labels * predictions) < 0) / len(labels)"
   ]
  },
  {
   "cell_type": "markdown",
   "metadata": {},
   "source": [
    "### Data preparation"
   ]
  },
  {
   "cell_type": "code",
   "execution_count": 36,
   "metadata": {
    "collapsed": false
   },
   "outputs": [],
   "source": [
    "train = pd.read_csv(\"./data/in.dta\", delim_whitespace=True, header=None).as_matrix()\n",
    "test = pd.read_csv(\"./data/out.dta\", delim_whitespace=True, header=None).as_matrix()"
   ]
  },
  {
   "cell_type": "code",
   "execution_count": 86,
   "metadata": {
    "collapsed": true
   },
   "outputs": [],
   "source": [
    "train_x = train[:,:2]\n",
    "train_y = train[:,2]\n",
    "\n",
    "test_x = test[:,:2]\n",
    "test_y = test[:,2]"
   ]
  },
  {
   "cell_type": "code",
   "execution_count": 259,
   "metadata": {
    "collapsed": false
   },
   "outputs": [],
   "source": [
    "train_z = transform(train_x)\n",
    "test_z = transform(test_x)"
   ]
  },
  {
   "cell_type": "markdown",
   "metadata": {},
   "source": [
    "### Linear regression"
   ]
  },
  {
   "cell_type": "code",
   "execution_count": 285,
   "metadata": {
    "collapsed": false
   },
   "outputs": [
    {
     "name": "stdout",
     "output_type": "stream",
     "text": [
      "error_in = 0.029\t error_out = 0.084\n"
     ]
    }
   ],
   "source": [
    "gx_vector = solve_linear_regression(train_z, train_y) # linear regression without decay\n",
    "error_in = get_linear_regression_error(train_z, train_y, gx_vector) # error in sample\n",
    "error_out = get_linear_regression_error(test_z, test_y, gx_vector) # error out of sample\n",
    "\n",
    "print(\"error_in = %.3f\\t error_out = %.3f\" % (error_in, error_out))"
   ]
  },
  {
   "cell_type": "markdown",
   "metadata": {},
   "source": [
    "### Linear regression with decay"
   ]
  },
  {
   "cell_type": "code",
   "execution_count": 286,
   "metadata": {
    "collapsed": false
   },
   "outputs": [
    {
     "data": {
      "text/plain": [
       "(35, 8)"
      ]
     },
     "execution_count": 286,
     "metadata": {},
     "output_type": "execute_result"
    }
   ],
   "source": [
    "train_z.shape"
   ]
  },
  {
   "cell_type": "code",
   "execution_count": 296,
   "metadata": {
    "collapsed": false
   },
   "outputs": [],
   "source": [
    "def solve_linear_regression_with_decay(pi, labels, lmd):\n",
    "    LI = lmd * np.eye(pi.shape[1])\n",
    "    return np.dot(np.dot(np.linalg.pinv(np.dot(pi.T, pi) + LI), pi.T), labels)"
   ]
  },
  {
   "cell_type": "code",
<<<<<<< HEAD
   "execution_count": 314,
=======
   "execution_count": 306,
>>>>>>> 03f0bf9a8778149c0f71e5db625a56aced5ab353
   "metadata": {
    "collapsed": false
   },
   "outputs": [
    {
     "name": "stdout",
     "output_type": "stream",
     "text": [
      "k = -3\t error_in = 0.029\t error_out = 0.080\n",
      "k = -2\t error_in = 0.029\t error_out = 0.084\n",
      "k = -1\t error_in = 0.029\t error_out = 0.056\n",
      "k = 0\t error_in = 0.000\t error_out = 0.092\n",
      "k = 1\t error_in = 0.057\t error_out = 0.124\n",
      "k = 2\t error_in = 0.200\t error_out = 0.228\n",
      "k = 3\t error_in = 0.371\t error_out = 0.436\n"
     ]
    }
   ],
   "source": [
<<<<<<< HEAD
=======
    "\n",
>>>>>>> 03f0bf9a8778149c0f71e5db625a56aced5ab353
    "for k in range(-3, 4, 1):\n",
    "    gx_vector = solve_linear_regression_with_decay(train_z, train_y, pow(10, k)) # linear regression with decay\n",
    "    error_in = get_linear_regression_error(train_z, train_y, gx_vector) # error in sample\n",
    "    error_out = get_linear_regression_error(test_z, test_y, gx_vector) # error out of sample\n",
    "\n",
    "    print(\"k = %d\\t error_in = %.3f\\t error_out = %.3f\" %(k, error_in, error_out))"
   ]
  }
 ],
 "metadata": {
  "kernelspec": {
   "display_name": "Python 3",
   "language": "python",
   "name": "python3"
  },
  "language_info": {
   "codemirror_mode": {
    "name": "ipython",
    "version": 3
   },
   "file_extension": ".py",
   "mimetype": "text/x-python",
   "name": "python",
   "nbconvert_exporter": "python",
   "pygments_lexer": "ipython3",
   "version": "3.4.3"
  }
 },
 "nbformat": 4,
 "nbformat_minor": 0
}
