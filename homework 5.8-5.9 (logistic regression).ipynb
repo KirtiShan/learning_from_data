{
 "cells": [
  {
   "cell_type": "code",
   "execution_count": 2,
   "metadata": {
    "collapsed": true
   },
   "outputs": [],
   "source": [
    "import numpy as np"
   ]
  },
  {
   "cell_type": "code",
   "execution_count": 3,
   "metadata": {
    "collapsed": true
   },
   "outputs": [],
   "source": [
    "def get_random_points(n):\n",
    "    return np.random.uniform(-1, 1, [n, 2])\n",
    "\n",
    "def get_random_line_vector():\n",
    "    rp = np.random.uniform(-1, 1, (2, 2)) \n",
    "    slope = (rp[0, 1] - rp[1, 1]) / (rp[0, 0] - rp[1, 0])\n",
    "    intercept = rp[0, 1] - rp[0, 0] * slope\n",
    "    return [intercept, slope, 1]    "
   ]
  },
  {
   "cell_type": "code",
   "execution_count": 230,
   "metadata": {
    "collapsed": true
   },
   "outputs": [],
   "source": [
    "def get_labels(pi, fx_vector):\n",
    "    labels = np.sign(np.dot(pi, fx_vector))\n",
    "#     labels = pi[:, 2] + pi[:, 1] * fx_vector[1] + pi[:, 0] * fx_vector[0] >= 0\n",
    "#     labels = np.where(labels, 1, -1)\n",
    "    return labels\n",
    "\n",
    "def get_plot_points_from_vector(vector):\n",
    "    x = np.array([-2, 2])\n",
    "    y = (- vector[1] * x - vector[0]) / vector[2]\n",
    "    return (x, y)"
   ]
  },
  {
   "cell_type": "code",
   "execution_count": 231,
   "metadata": {
    "collapsed": true
   },
   "outputs": [],
   "source": [
    "import matplotlib.pyplot as plt\n",
    "import time\n",
    "from IPython import display\n",
    "\n",
    "def update_plot(points, labels, fx_vector, gx_vector):\n",
    "    fig = plt.figure()\n",
    "    ax1 = fig.add_subplot(111)\n",
    "    ax1.set_ylim([-2,2])\n",
    "    ax1.set_xlim([-2,2])\n",
    "\n",
    "    x = points[:, 0]\n",
    "    y = points[:, 1]\n",
    "    ax1.scatter(x[labels==1], y[labels==1], s=30, c='b', marker='+')\n",
    "    ax1.scatter(x[labels==-1],y[labels==-1], s=30, c='r', marker=\"_\")\n",
    "\n",
    "    gx_x, gx_y  = get_plot_points_from_vector(gx_vector)\n",
    "    ax1.plot(gx_x, gx_y, 'k', lw=2)\n",
    "\n",
    "    fx_x, fx_y = get_plot_points_from_vector(fx_vector)\n",
    "    ax1.plot(fx_x, fx_y, 'g', lw=2)\n",
    "\n",
    "    plt.show()"
   ]
  },
  {
   "cell_type": "code",
   "execution_count": 232,
   "metadata": {
    "collapsed": true
   },
   "outputs": [],
   "source": [
    "def add_intercept(points):\n",
    "    pi = np.array([[1, x1, x2] for (x1, x2) in points])\n",
    "    return pi"
   ]
  },
  {
   "cell_type": "code",
   "execution_count": 960,
   "metadata": {
    "collapsed": true
   },
   "outputs": [],
   "source": [
    "def logistic_error(points, labels, weights):\n",
    "    return np.mean(np.log(1.0 + np.exp(-labels * np.dot(points, weights))))"
   ]
  },
  {
   "cell_type": "code",
   "execution_count": 965,
   "metadata": {
    "collapsed": false
   },
   "outputs": [],
   "source": [
    "def d_w(point, label, weights):\n",
    "    dw = point * label * ( 1 / (1 + np.exp(label * sum(weights * point))))\n",
    "    return dw\n",
    "\n",
    "def logistic_regression(points, labels, a=0.01):\n",
    "    weights = np.array([0.0, 0.0, 0.0])    \n",
    "\n",
    "    weight_diff = 1\n",
    "    iterations = 0\n",
    "    while weight_diff >= 0.01:\n",
    "        seq = np.random.permutation(N)\n",
    "        weights_pre_epoch = np.copy(weights)\n",
    "        # run an epoch\n",
    "        for i in seq:\n",
    "#             print(weights)\n",
    "            point = points[i]\n",
    "            label = labels[i]\n",
    "            dw = d_w(point, label, weights)\n",
    "            weights += a * dw\n",
    "#             print(weights)\n",
    "        weight_diff = np.linalg.norm(weights_pre_epoch - weights)\n",
    "        iterations += 1\n",
    "#     print(\"weight diff: %.5f\" % weight_diff)\n",
    "#     print(\"error: %.5f\" % logistic_error(points, labels, weights))\n",
    "#     print(\"final weigths: %s\" % str(weights))\n",
    "#     print(\"iterations: %d\" % iterations)\n",
    "    return (weights, iterations)"
   ]
  },
  {
   "cell_type": "code",
   "execution_count": null,
   "metadata": {
    "collapsed": false,
    "scrolled": false
   },
   "outputs": [],
   "source": [
    "error = 0\n",
    "N = 100\n",
    "RUNS = 100\n",
    "\n",
    "# learning rate a\n",
    "a = 0.01\n",
    "\n",
    "iterations = 0\n",
    "error = 0\n",
    "for i in range (RUNS):\n",
    "    points = get_random_points(N)\n",
    "    fx_vector= get_random_line_vector()\n",
    "    pi = add_intercept(points)\n",
    "    points = pi[:, 1:3]\n",
    "    labels = get_labels(pi, fx_vector)\n",
    "\n",
    "    lr_vector, it = logistic_regression(pi, labels, a)\n",
    "    iterations += it\n",
    "    error += logistic_error(pi, labels, lr_vector)\n",
    "    \n",
    "#     update_plot(points, labels, fx_vector, lr_vector)\n",
    "\n",
    "print(iterations/RUNS)\n",
    "print(error/RUNS)"
   ]
  },
  {
   "cell_type": "code",
   "execution_count": null,
   "metadata": {
    "collapsed": false
   },
   "outputs": [],
   "source": [
    "update_plot(points, labels, fx_vector, lr_vector)"
   ]
  }
 ],
 "metadata": {
  "kernelspec": {
   "display_name": "Python 3",
   "language": "python",
   "name": "python3"
  },
  "language_info": {
   "codemirror_mode": {
    "name": "ipython",
    "version": 3
   },
   "file_extension": ".py",
   "mimetype": "text/x-python",
   "name": "python",
   "nbconvert_exporter": "python",
   "pygments_lexer": "ipython3",
   "version": "3.4.3"
  }
 },
 "nbformat": 4,
 "nbformat_minor": 0
}
