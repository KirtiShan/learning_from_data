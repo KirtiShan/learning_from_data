{
 "cells": [
  {
   "cell_type": "code",
   "execution_count": 2,
   "metadata": {
    "collapsed": true
   },
   "outputs": [],
   "source": [
    "import numpy as np"
   ]
  },
  {
   "cell_type": "code",
   "execution_count": 11,
   "metadata": {
    "collapsed": true
   },
   "outputs": [],
   "source": [
    "def error(p):\n",
    "    u = p[0]\n",
    "    v = p[1]\n",
    "    return (u*np.exp(v) - 2*v*np.exp(-u)) ** 2"
   ]
  },
  {
   "cell_type": "code",
   "execution_count": 34,
   "metadata": {
    "collapsed": true
   },
   "outputs": [],
   "source": [
    "def d_error(p):\n",
    "    u = p[0]\n",
    "    v = p[1]\n",
    "    dp = np.array([2*(u*np.exp(v) - 2*v*np.exp(-u))*(np.exp(v) + 2*v*np.exp(-u)), \n",
    "          2*(u*np.exp(v) - 2*v*np.exp(-u))*(u*np.exp(v) - 2*np.exp(-u))])\n",
    "    return dp\n",
    "\n",
    "\n",
    "def d_error_du(p):\n",
    "    u = p[0]\n",
    "    v = p[1]\n",
    "    du = 2*(u*np.exp(v) - 2*v*np.exp(-u))*(np.exp(v) + 2*v*np.exp(-u))\n",
    "    return du\n",
    "\n",
    "def d_error_dv(p):\n",
    "    u = p[0]\n",
    "    v = p[1]\n",
    "    dv = 2*(u*np.exp(v) - 2*v*np.exp(-u))*(u*np.exp(v) - 2*np.exp(-u))\n",
    "    return dv"
   ]
  },
  {
   "cell_type": "code",
   "execution_count": 107,
   "metadata": {
    "collapsed": false
   },
   "outputs": [
    {
     "name": "stdout",
     "output_type": "stream",
     "text": [
      "1.20868339442e-15\n",
      "[ 0.04473629  0.02395871]\n"
     ]
    }
   ],
   "source": [
    "p = np.array([1.0, 1.0])\n",
    "\n",
    "h = 0.1\n",
    "\n",
    "while error(p) > (10 ** -14):\n",
    "    p = p -  h * d_error(p)\n",
    "\n",
    "print(error(p))\n",
    "print(p)"
   ]
  },
  {
   "cell_type": "code",
   "execution_count": 116,
   "metadata": {
    "collapsed": false
   },
   "outputs": [
    {
     "name": "stdout",
     "output_type": "stream",
     "text": [
      "p [1.00000 1.00000] - error 3.93040\n",
      "p [-0.36954 1.00000] - error 15.19961\n",
      "p [-0.36954 -2.03992] - error 34.29016\n",
      "p [6.39247 -2.03992] - error 0.70241\n",
      "p [6.39247 -2.17870] - error 0.53414\n",
      "p [6.37700 -2.17870] - error 0.53175\n",
      "p [6.37700 -2.28347] - error 0.43266\n",
      "p [6.36461 -2.28347] - error 0.43113\n",
      "p [6.36461 -2.36821] - error 0.36504\n",
      "p [6.35428 -2.36821] - error 0.36397\n",
      "p [6.35428 -2.43959] - error 0.31647\n",
      "p [6.34542 -2.43959] - error 0.31568\n",
      "p [6.34542 -2.50138] - error 0.27976\n",
      "p [6.33768 -2.50138] - error 0.27916\n",
      "p [6.33768 -2.55590] - error 0.25099\n",
      "p [6.33081 -2.55590] - error 0.25051\n",
      "p [6.33081 -2.60473] - error 0.22778\n",
      "p [6.32464 -2.60473] - error 0.22740\n",
      "p [6.32464 -2.64898] - error 0.20866\n",
      "p [6.31904 -2.64898] - error 0.20834\n",
      "p [6.31904 -2.68945] - error 0.19261\n",
      "p [6.31393 -2.68945] - error 0.19234\n",
      "p [6.31393 -2.72675] - error 0.17893\n",
      "p [6.30923 -2.72675] - error 0.17871\n",
      "p [6.30923 -2.76135] - error 0.16715\n",
      "p [6.30488 -2.76135] - error 0.16696\n",
      "p [6.30488 -2.79361] - error 0.15687\n",
      "p [6.30084 -2.79361] - error 0.15671\n",
      "p [6.30084 -2.82385] - error 0.14783\n",
      "p [6.29708 -2.82385] - error 0.14769\n"
     ]
    }
   ],
   "source": [
    "p = np.array([1.0, 1.0])\n",
    "\n",
    "h = 0.1\n",
    "\n",
    "# while error(p) > (10 ** -14):\n",
    "for i in range(15):\n",
    "    print(\"p [%.5f %.5f] - error %.5f\" % (p[0], p[1], error(p)))\n",
    "    p[0] = p[0] -  h * d_error_du(p)\n",
    "    print(\"p [%.5f %.5f] - error %.5f\" % (p[0], p[1], error(p)))\n",
    "    p[1] = p[1] -  h * d_error_dv(p)"
   ]
  }
 ],
 "metadata": {
  "kernelspec": {
   "display_name": "Python 3",
   "language": "python",
   "name": "python3"
  },
  "language_info": {
   "codemirror_mode": {
    "name": "ipython",
    "version": 3
   },
   "file_extension": ".py",
   "mimetype": "text/x-python",
   "name": "python",
   "nbconvert_exporter": "python",
   "pygments_lexer": "ipython3",
   "version": "3.4.3"
  }
 },
 "nbformat": 4,
 "nbformat_minor": 0
}
